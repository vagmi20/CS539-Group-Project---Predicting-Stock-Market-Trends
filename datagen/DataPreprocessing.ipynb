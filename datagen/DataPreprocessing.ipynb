{
  "nbformat": 4,
  "nbformat_minor": 0,
  "metadata": {
    "colab": {
      "provenance": []
    },
    "kernelspec": {
      "name": "python3",
      "display_name": "Python 3"
    },
    "language_info": {
      "name": "python"
    }
  },
  "cells": [
    {
      "cell_type": "code",
      "source": [
        "!pip install pymongo dnspython\n",
        "!pip install \"pymongo[srv]\""
      ],
      "metadata": {
        "id": "sDes1xxFAnJs",
        "colab": {
          "base_uri": "https://localhost:8080/"
        },
        "outputId": "340b84f1-6b91-42cf-a0cc-3edf7d036730"
      },
      "execution_count": null,
      "outputs": [
        {
          "output_type": "stream",
          "name": "stdout",
          "text": [
            "Requirement already satisfied: pymongo in /usr/local/lib/python3.10/dist-packages (4.6.3)\n",
            "Requirement already satisfied: dnspython in /usr/local/lib/python3.10/dist-packages (2.6.1)\n",
            "Requirement already satisfied: pymongo[srv] in /usr/local/lib/python3.10/dist-packages (4.6.3)\n",
            "Requirement already satisfied: dnspython<3.0.0,>=1.16.0 in /usr/local/lib/python3.10/dist-packages (from pymongo[srv]) (2.6.1)\n"
          ]
        }
      ]
    },
    {
      "cell_type": "code",
      "source": [
        "import pandas as pd\n",
        "from pymongo import MongoClient"
      ],
      "metadata": {
        "id": "GbMKCDR1Ah9Z"
      },
      "execution_count": null,
      "outputs": []
    },
    {
      "cell_type": "code",
      "source": [],
      "metadata": {
        "colab": {
          "base_uri": "https://localhost:8080/",
          "height": 321
        },
        "id": "nAVpbeNgCIAj",
        "outputId": "c60dbb79-f2ce-4d5c-96aa-bcd6d25ac0cc"
      },
      "execution_count": null,
      "outputs": [
        {
          "output_type": "error",
          "ename": "MessageError",
          "evalue": "Error: credential propagation was unsuccessful",
          "traceback": [
            "\u001b[0;31m---------------------------------------------------------------------------\u001b[0m",
            "\u001b[0;31mMessageError\u001b[0m                              Traceback (most recent call last)",
            "\u001b[0;32m<ipython-input-3-f5129fa6b58e>\u001b[0m in \u001b[0;36m<cell line: 3>\u001b[0;34m()\u001b[0m\n\u001b[1;32m      1\u001b[0m \u001b[0;32mimport\u001b[0m \u001b[0mos\u001b[0m\u001b[0;34m\u001b[0m\u001b[0;34m\u001b[0m\u001b[0m\n\u001b[1;32m      2\u001b[0m \u001b[0;32mfrom\u001b[0m \u001b[0mgoogle\u001b[0m\u001b[0;34m.\u001b[0m\u001b[0mcolab\u001b[0m \u001b[0;32mimport\u001b[0m \u001b[0mdrive\u001b[0m\u001b[0;34m\u001b[0m\u001b[0;34m\u001b[0m\u001b[0m\n\u001b[0;32m----> 3\u001b[0;31m \u001b[0mdrive\u001b[0m\u001b[0;34m.\u001b[0m\u001b[0mmount\u001b[0m\u001b[0;34m(\u001b[0m\u001b[0;34m'/content/drive'\u001b[0m\u001b[0;34m)\u001b[0m\u001b[0;34m\u001b[0m\u001b[0;34m\u001b[0m\u001b[0m\n\u001b[0m",
            "\u001b[0;32m/usr/local/lib/python3.10/dist-packages/google/colab/drive.py\u001b[0m in \u001b[0;36mmount\u001b[0;34m(mountpoint, force_remount, timeout_ms, readonly)\u001b[0m\n\u001b[1;32m     98\u001b[0m \u001b[0;32mdef\u001b[0m \u001b[0mmount\u001b[0m\u001b[0;34m(\u001b[0m\u001b[0mmountpoint\u001b[0m\u001b[0;34m,\u001b[0m \u001b[0mforce_remount\u001b[0m\u001b[0;34m=\u001b[0m\u001b[0;32mFalse\u001b[0m\u001b[0;34m,\u001b[0m \u001b[0mtimeout_ms\u001b[0m\u001b[0;34m=\u001b[0m\u001b[0;36m120000\u001b[0m\u001b[0;34m,\u001b[0m \u001b[0mreadonly\u001b[0m\u001b[0;34m=\u001b[0m\u001b[0;32mFalse\u001b[0m\u001b[0;34m)\u001b[0m\u001b[0;34m:\u001b[0m\u001b[0;34m\u001b[0m\u001b[0;34m\u001b[0m\u001b[0m\n\u001b[1;32m     99\u001b[0m   \u001b[0;34m\"\"\"Mount your Google Drive at the specified mountpoint path.\"\"\"\u001b[0m\u001b[0;34m\u001b[0m\u001b[0;34m\u001b[0m\u001b[0m\n\u001b[0;32m--> 100\u001b[0;31m   return _mount(\n\u001b[0m\u001b[1;32m    101\u001b[0m       \u001b[0mmountpoint\u001b[0m\u001b[0;34m,\u001b[0m\u001b[0;34m\u001b[0m\u001b[0;34m\u001b[0m\u001b[0m\n\u001b[1;32m    102\u001b[0m       \u001b[0mforce_remount\u001b[0m\u001b[0;34m=\u001b[0m\u001b[0mforce_remount\u001b[0m\u001b[0;34m,\u001b[0m\u001b[0;34m\u001b[0m\u001b[0;34m\u001b[0m\u001b[0m\n",
            "\u001b[0;32m/usr/local/lib/python3.10/dist-packages/google/colab/drive.py\u001b[0m in \u001b[0;36m_mount\u001b[0;34m(mountpoint, force_remount, timeout_ms, ephemeral, readonly)\u001b[0m\n\u001b[1;32m    131\u001b[0m   )\n\u001b[1;32m    132\u001b[0m   \u001b[0;32mif\u001b[0m \u001b[0mephemeral\u001b[0m\u001b[0;34m:\u001b[0m\u001b[0;34m\u001b[0m\u001b[0;34m\u001b[0m\u001b[0m\n\u001b[0;32m--> 133\u001b[0;31m     _message.blocking_request(\n\u001b[0m\u001b[1;32m    134\u001b[0m         \u001b[0;34m'request_auth'\u001b[0m\u001b[0;34m,\u001b[0m \u001b[0mrequest\u001b[0m\u001b[0;34m=\u001b[0m\u001b[0;34m{\u001b[0m\u001b[0;34m'authType'\u001b[0m\u001b[0;34m:\u001b[0m \u001b[0;34m'dfs_ephemeral'\u001b[0m\u001b[0;34m}\u001b[0m\u001b[0;34m,\u001b[0m \u001b[0mtimeout_sec\u001b[0m\u001b[0;34m=\u001b[0m\u001b[0;32mNone\u001b[0m\u001b[0;34m\u001b[0m\u001b[0;34m\u001b[0m\u001b[0m\n\u001b[1;32m    135\u001b[0m     )\n",
            "\u001b[0;32m/usr/local/lib/python3.10/dist-packages/google/colab/_message.py\u001b[0m in \u001b[0;36mblocking_request\u001b[0;34m(request_type, request, timeout_sec, parent)\u001b[0m\n\u001b[1;32m    174\u001b[0m       \u001b[0mrequest_type\u001b[0m\u001b[0;34m,\u001b[0m \u001b[0mrequest\u001b[0m\u001b[0;34m,\u001b[0m \u001b[0mparent\u001b[0m\u001b[0;34m=\u001b[0m\u001b[0mparent\u001b[0m\u001b[0;34m,\u001b[0m \u001b[0mexpect_reply\u001b[0m\u001b[0;34m=\u001b[0m\u001b[0;32mTrue\u001b[0m\u001b[0;34m\u001b[0m\u001b[0;34m\u001b[0m\u001b[0m\n\u001b[1;32m    175\u001b[0m   )\n\u001b[0;32m--> 176\u001b[0;31m   \u001b[0;32mreturn\u001b[0m \u001b[0mread_reply_from_input\u001b[0m\u001b[0;34m(\u001b[0m\u001b[0mrequest_id\u001b[0m\u001b[0;34m,\u001b[0m \u001b[0mtimeout_sec\u001b[0m\u001b[0;34m)\u001b[0m\u001b[0;34m\u001b[0m\u001b[0;34m\u001b[0m\u001b[0m\n\u001b[0m",
            "\u001b[0;32m/usr/local/lib/python3.10/dist-packages/google/colab/_message.py\u001b[0m in \u001b[0;36mread_reply_from_input\u001b[0;34m(message_id, timeout_sec)\u001b[0m\n\u001b[1;32m    101\u001b[0m     ):\n\u001b[1;32m    102\u001b[0m       \u001b[0;32mif\u001b[0m \u001b[0;34m'error'\u001b[0m \u001b[0;32min\u001b[0m \u001b[0mreply\u001b[0m\u001b[0;34m:\u001b[0m\u001b[0;34m\u001b[0m\u001b[0;34m\u001b[0m\u001b[0m\n\u001b[0;32m--> 103\u001b[0;31m         \u001b[0;32mraise\u001b[0m \u001b[0mMessageError\u001b[0m\u001b[0;34m(\u001b[0m\u001b[0mreply\u001b[0m\u001b[0;34m[\u001b[0m\u001b[0;34m'error'\u001b[0m\u001b[0;34m]\u001b[0m\u001b[0;34m)\u001b[0m\u001b[0;34m\u001b[0m\u001b[0;34m\u001b[0m\u001b[0m\n\u001b[0m\u001b[1;32m    104\u001b[0m       \u001b[0;32mreturn\u001b[0m \u001b[0mreply\u001b[0m\u001b[0;34m.\u001b[0m\u001b[0mget\u001b[0m\u001b[0;34m(\u001b[0m\u001b[0;34m'data'\u001b[0m\u001b[0;34m,\u001b[0m \u001b[0;32mNone\u001b[0m\u001b[0;34m)\u001b[0m\u001b[0;34m\u001b[0m\u001b[0;34m\u001b[0m\u001b[0m\n\u001b[1;32m    105\u001b[0m \u001b[0;34m\u001b[0m\u001b[0m\n",
            "\u001b[0;31mMessageError\u001b[0m: Error: credential propagation was unsuccessful"
          ]
        }
      ]
    },
    {
      "cell_type": "code",
      "source": [
        "from google.colab import drive\n",
        "drive.mount('/content/drive')"
      ],
      "metadata": {
        "colab": {
          "base_uri": "https://localhost:8080/"
        },
        "id": "uytVBbT3batZ",
        "outputId": "44b216f6-37f2-45a4-bbad-ec84a251bc9c"
      },
      "execution_count": null,
      "outputs": [
        {
          "output_type": "stream",
          "name": "stdout",
          "text": [
            "Mounted at /content/drive\n"
          ]
        }
      ]
    },
    {
      "cell_type": "markdown",
      "source": [
        "# Loading the stock and sentiment data csvs"
      ],
      "metadata": {
        "id": "6_knmXKg-dMK"
      }
    },
    {
      "cell_type": "code",
      "source": [
        "# Load stock and sentiment data from CSV and convert to dataframe\n",
        "stock_data_path = \"/content/drive/MyDrive/Final_DF/stocks (1).csv\"\n",
        "stock_df = pd.read_csv(stock_data_path)\n",
        "\n",
        "sentiment_data_path = \"/content/drive/MyDrive/Final_DF/sentiment.csv\"\n",
        "sentiment_df = pd.read_csv(sentiment_data_path)"
      ],
      "metadata": {
        "id": "OFobSgz8RAnD"
      },
      "execution_count": null,
      "outputs": []
    },
    {
      "cell_type": "markdown",
      "source": [
        "# Determine Association Between Stocks and Articles\n",
        "Choose which stock the sentiment of an article is aimed towards."
      ],
      "metadata": {
        "id": "aio6sx2WJswl"
      }
    },
    {
      "cell_type": "code",
      "source": [
        "import ast\n",
        "sentiment_df['most_relevant_stock'] = sentiment_df['stock_names_freq'].apply(\n",
        "    lambda x: max(ast.literal_eval(x), key=ast.literal_eval(x).get)\n",
        ")"
      ],
      "metadata": {
        "id": "DClDTrQrCtwC"
      },
      "execution_count": null,
      "outputs": []
    },
    {
      "cell_type": "markdown",
      "source": [
        "# Creating a dataframe of daily features for the entire AI sector\n",
        "\n"
      ],
      "metadata": {
        "id": "p-giJBiW-ip-"
      }
    },
    {
      "cell_type": "code",
      "execution_count": null,
      "metadata": {
        "id": "AY1uzYmpAZ6K"
      },
      "outputs": [],
      "source": [
        "import numpy as np\n",
        "\n",
        "# Convert 'publishedAt' to datetime and set index\n",
        "sentiment_df['publishedAt'] = pd.to_datetime(sentiment_df['publishedAt']).dt.tz_localize(None)\n",
        "sentiment_df['publishedAt_date'] = sentiment_df['publishedAt'].dt.date\n",
        "\n",
        "# separate sentiment_probs list into three columns for each sentiment (neg, neutral, pos)\n",
        "sentiment_df['neg_sentiment_prob'] = sentiment_df['sentiment_probs'].apply(\n",
        "    lambda x: float(x.replace('[','').replace(']','').strip().split(',')[0])\n",
        ")\n",
        "sentiment_df['neu_sentiment_prob'] = sentiment_df['sentiment_probs'].apply(\n",
        "    lambda x: float(x.replace('[','').replace(']','').strip().split(',')[1])\n",
        ")\n",
        "sentiment_df['pos_sentiment_prob'] = sentiment_df['sentiment_probs'].apply(\n",
        "    lambda x: float(x.replace('[','').replace(']','').strip().split(',')[2])\n",
        ")\n",
        "\n",
        "# count the number of neutral, pos, neg, articles per day\n",
        "daily_sentiment_cnt = sentiment_df.groupby('publishedAt_date')['sentiment_score'].value_counts().unstack(-1).reset_index()\n",
        "daily_sentiment_cnt.rename(columns={0: 'neg_sentiment_cnt',\n",
        "                                    1: 'neu_sentiment_cnt',\n",
        "                                    2: 'pos_sentiment_cnt'}, inplace=True)\n",
        "daily_sentiment_cnt.fillna(0, inplace=True)\n",
        "\n",
        "# compute average neutral, pos, neg probs across all articles\n",
        "daily_sentiment_mean_probs = sentiment_df.groupby('publishedAt_date')[['neg_sentiment_prob', 'neu_sentiment_prob', 'pos_sentiment_prob']].mean()\n",
        "daily_sentiment_mean_probs.reset_index(inplace=True)\n",
        "daily_sentiment_mean_probs.rename(columns={'neg_sentiment_prob': 'mean_neg_sentiment_prob',\n",
        "                                          'neu_sentiment_prob': 'mean_neu_sentiment_prob',\n",
        "                                          'pos_sentiment_prob': 'mean_pos_sentiment_prob'}, inplace=True)\n",
        "\n",
        "daily_sector_sentiment_features = daily_sentiment_cnt.set_index('publishedAt_date').join(daily_sentiment_mean_probs.set_index('publishedAt_date'))\n",
        "print(daily_sector_sentiment_features)\n",
        "\n"
      ]
    },
    {
      "cell_type": "markdown",
      "source": [
        "# Creating a dataframe of daily features for each company in the AI sector"
      ],
      "metadata": {
        "id": "1_V7vbF6Bn8w"
      }
    },
    {
      "cell_type": "code",
      "source": [
        "import numpy as np\n",
        "\n",
        "# Convert 'publishedAt' to datetime and set index\n",
        "sentiment_df['publishedAt'] = pd.to_datetime(sentiment_df['publishedAt']).dt.tz_localize(None)\n",
        "sentiment_df['publishedAt_date'] = sentiment_df['publishedAt'].dt.date\n",
        "\n",
        "# separate sentiment_probs list into three columns for each sentiment (neg, neutral, pos)\n",
        "sentiment_df['neg_sentiment_prob'] = sentiment_df['sentiment_probs'].apply(\n",
        "    lambda x: float(x.replace('[','').replace(']','').strip().split(',')[0])\n",
        ")\n",
        "sentiment_df['neu_sentiment_prob'] = sentiment_df['sentiment_probs'].apply(\n",
        "    lambda x: float(x.replace('[','').replace(']','').strip().split(',')[1])\n",
        ")\n",
        "sentiment_df['pos_sentiment_prob'] = sentiment_df['sentiment_probs'].apply(\n",
        "    lambda x: float(x.replace('[','').replace(']','').strip().split(',')[2])\n",
        ")\n",
        "\n",
        "# count the number of neutral, pos, neg, articles per day\n",
        "daily_sentiment_cnt = sentiment_df.groupby(['publishedAt_date', 'most_relevant_stock'])['sentiment_score'].value_counts().unstack(-1).reset_index()\n",
        "daily_sentiment_cnt.rename(columns={0: 'neg_sentiment_cnt',\n",
        "                                    1: 'neu_sentiment_cnt',\n",
        "                                    2: 'pos_sentiment_cnt'}, inplace=True)\n",
        "daily_sentiment_cnt.fillna(0, inplace=True)\n",
        "\n",
        "# compute average neutral, pos, neg probs across all articles\n",
        "daily_sentiment_mean_probs = sentiment_df.groupby(['publishedAt_date', 'most_relevant_stock'])[['neg_sentiment_prob',\n",
        "                                                                                          'neu_sentiment_prob',\n",
        "                                                                                          'pos_sentiment_prob']].mean()\n",
        "daily_sentiment_mean_probs.reset_index(inplace=True)\n",
        "daily_sentiment_mean_probs.rename(columns={'neg_sentiment_prob': 'mean_neg_sentiment_prob',\n",
        "                                          'neu_sentiment_prob': 'mean_neu_sentiment_prob',\n",
        "                                          'pos_sentiment_prob': 'mean_pos_sentiment_prob'}, inplace=True)\n",
        "\n",
        "daily_company_sentiment_features = daily_sentiment_cnt.set_index(['publishedAt_date', 'most_relevant_stock']) \\\n",
        "                                  .join(daily_sentiment_mean_probs.set_index(['publishedAt_date', 'most_relevant_stock']))\n",
        "print(daily_company_sentiment_features)"
      ],
      "metadata": {
        "colab": {
          "base_uri": "https://localhost:8080/"
        },
        "id": "nVpu3q6NBxQA",
        "outputId": "6f78d53f-5619-4921-bb3e-033574a9f8f0"
      },
      "execution_count": null,
      "outputs": [
        {
          "output_type": "stream",
          "name": "stdout",
          "text": [
            "                                      neg_sentiment_cnt  neu_sentiment_cnt  \\\n",
            "publishedAt_date most_relevant_stock                                         \n",
            "2024-03-03       AAPL                               0.0                3.0   \n",
            "                 AI                                 2.0                2.0   \n",
            "                 META                               0.0                1.0   \n",
            "                 ORCL                               0.0                1.0   \n",
            "                 TER                                0.0                1.0   \n",
            "...                                                 ...                ...   \n",
            "2024-04-02       SNPS                               0.0                0.0   \n",
            "                 SQ                                 0.0                1.0   \n",
            "                 TER                                0.0                1.0   \n",
            "                 TSLA                               7.0                1.0   \n",
            "                 ZS                                 0.0                1.0   \n",
            "\n",
            "                                      pos_sentiment_cnt  \\\n",
            "publishedAt_date most_relevant_stock                      \n",
            "2024-03-03       AAPL                               1.0   \n",
            "                 AI                                 1.0   \n",
            "                 META                               1.0   \n",
            "                 ORCL                               0.0   \n",
            "                 TER                                0.0   \n",
            "...                                                 ...   \n",
            "2024-04-02       SNPS                               2.0   \n",
            "                 SQ                                 0.0   \n",
            "                 TER                                1.0   \n",
            "                 TSLA                               1.0   \n",
            "                 ZS                                 1.0   \n",
            "\n",
            "                                      mean_neg_sentiment_prob  \\\n",
            "publishedAt_date most_relevant_stock                            \n",
            "2024-03-03       AAPL                                0.000382   \n",
            "                 AI                                  0.365183   \n",
            "                 META                                0.000447   \n",
            "                 ORCL                                0.005035   \n",
            "                 TER                                 0.088399   \n",
            "...                                                       ...   \n",
            "2024-04-02       SNPS                                0.000245   \n",
            "                 SQ                                  0.000109   \n",
            "                 TER                                 0.090406   \n",
            "                 TSLA                                0.776485   \n",
            "                 ZS                                  0.000149   \n",
            "\n",
            "                                      mean_neu_sentiment_prob  \\\n",
            "publishedAt_date most_relevant_stock                            \n",
            "2024-03-03       AAPL                                0.749668   \n",
            "                 AI                                  0.442590   \n",
            "                 META                                0.500060   \n",
            "                 ORCL                                0.994159   \n",
            "                 TER                                 0.909546   \n",
            "...                                                       ...   \n",
            "2024-04-02       SNPS                                0.010376   \n",
            "                 SQ                                  0.997506   \n",
            "                 TER                                 0.474170   \n",
            "                 TSLA                                0.111614   \n",
            "                 ZS                                  0.505450   \n",
            "\n",
            "                                      mean_pos_sentiment_prob  \n",
            "publishedAt_date most_relevant_stock                           \n",
            "2024-03-03       AAPL                                0.249951  \n",
            "                 AI                                  0.192227  \n",
            "                 META                                0.499493  \n",
            "                 ORCL                                0.000806  \n",
            "                 TER                                 0.002056  \n",
            "...                                                       ...  \n",
            "2024-04-02       SNPS                                0.989378  \n",
            "                 SQ                                  0.002385  \n",
            "                 TER                                 0.435424  \n",
            "                 TSLA                                0.111901  \n",
            "                 ZS                                  0.494401  \n",
            "\n",
            "[655 rows x 6 columns]\n"
          ]
        }
      ]
    },
    {
      "cell_type": "code",
      "source": [
        "# from google.colab import drive\n",
        "# drive.mount('/content/drive')\n",
        "sentiment_data_path = \"/content/drive/My Drive/WPI/Senior Year/CS539 (ML)/sentiment.csv\"\n",
        "daily_company_sentiment_features.to_csv(sentiment_data_path)"
      ],
      "metadata": {
        "id": "jNMTKBloaMpc"
      },
      "execution_count": null,
      "outputs": []
    },
    {
      "cell_type": "code",
      "source": [
        "# Merge daily sentiment features and stock features into one dataframe\n",
        "\n",
        "# Prepare stock data\n",
        "daily_company_sentiment_features.reset_index(inplace=True)\n",
        "# print(daily_company_sentiment_features)\n",
        "stock_df.rename(columns={'Date' : 'publishedAt_date'}, inplace=True)\n",
        "# stock_df.rename(columns={'Date' : 'publishedAt_date'}, inplace=True)\n",
        "print(stock_df)\n",
        "# print(daily_company_sentiment_features)\n",
        "# final_df = stock_df.set_index('publishedAt_date').join(daily_company_sentiment_features.set_index('publishedAt_date'))\n",
        "# print(final_df)\n",
        "\n"
      ],
      "metadata": {
        "id": "nNHapjTPQU5S"
      },
      "execution_count": null,
      "outputs": []
    },
    {
      "cell_type": "code",
      "source": [
        "import pandas as pd\n",
        "\n",
        "\n",
        "\n",
        "# Rename columns for consistent naming conventions\n",
        "sentiment_df.rename(columns={'most_relevant_stock': 'Ticker', 'publishedAt_date': 'Date'}, inplace=True)\n",
        "\n",
        "# Merge the dataframes on 'Date' and 'Ticker'\n",
        "merged_df = pd.merge(stock_df, sentiment_df, on=['Date', 'Ticker'])\n",
        "\n",
        "# Display the first few rows of the merged dataframe\n",
        "print(\"\\nMerged Data:\")\n",
        "print(merged_df.head())\n"
      ],
      "metadata": {
        "colab": {
          "base_uri": "https://localhost:8080/"
        },
        "id": "OQlulzXxclcW",
        "outputId": "38f0594c-441d-43fc-e334-0b7236b53e75"
      },
      "execution_count": null,
      "outputs": [
        {
          "output_type": "stream",
          "name": "stdout",
          "text": [
            "\n",
            "Merged Data:\n",
            "         Date Ticker   Adj Close       Close         High         Low  \\\n",
            "0  2024-03-04   AAPL  175.100006  175.100006   176.899994  173.789993   \n",
            "1  2024-03-04   ADBE  567.940002  567.940002   576.250000  564.099976   \n",
            "2  2024-03-04     AI   34.070000   34.070000    37.540001   33.810001   \n",
            "3  2024-03-04   AMZN  177.580002  177.580002   180.139999  177.490005   \n",
            "4  2024-03-04   ASML  998.039978  998.039978  1007.679993  987.750000   \n",
            "\n",
            "         Open    Volume  Avg Closing Price  Unnamed: 0  index  \\\n",
            "0  176.149994  81510100         215.063628           6      6   \n",
            "1  572.849976   2556400         215.063628           7      7   \n",
            "2   36.470001  14609400         215.063628           8      8   \n",
            "3  177.529999  37381500         215.063628           9      9   \n",
            "4  992.599976   1433000         215.063628          10     10   \n",
            "\n",
            "   neg_sentiment_cnt  neu_sentiment_cnt  pos_sentiment_cnt  \\\n",
            "0                0.0                5.0                8.0   \n",
            "1                0.0                2.0                1.0   \n",
            "2                4.0                7.0               13.0   \n",
            "3                1.0                0.0                1.0   \n",
            "4                0.0                1.0                0.0   \n",
            "\n",
            "   mean_neg_sentiment_prob  mean_neu_sentiment_prob  mean_pos_sentiment_prob  \n",
            "0                 0.000808                 0.427172                 0.572019  \n",
            "1                 0.000211                 0.682516                 0.317273  \n",
            "2                 0.153089                 0.312550                 0.534361  \n",
            "3                 0.496739                 0.008287                 0.494974  \n",
            "4                 0.000074                 0.999869                 0.000057  \n"
          ]
        }
      ]
    },
    {
      "cell_type": "code",
      "source": [
        "# Drop the 'Unnamed: 0' column from the merged dataframe\n",
        "merged_df.drop(columns=['index' ], inplace=True)\n",
        "\n",
        "# Display the first few rows of the cleaned merged dataframe to confirm the column is dropped\n",
        "print(\"\\nCleaned Merged Data:\")\n",
        "print(merged_df.head())\n"
      ],
      "metadata": {
        "colab": {
          "base_uri": "https://localhost:8080/"
        },
        "id": "VwPW9m5od102",
        "outputId": "be33eba4-79f7-41ec-cbbf-00245e5fa9a8"
      },
      "execution_count": null,
      "outputs": [
        {
          "output_type": "stream",
          "name": "stdout",
          "text": [
            "\n",
            "Cleaned Merged Data:\n",
            "         Date Ticker   Adj Close       Close         High         Low  \\\n",
            "0  2024-03-04   AAPL  175.100006  175.100006   176.899994  173.789993   \n",
            "1  2024-03-04   ADBE  567.940002  567.940002   576.250000  564.099976   \n",
            "2  2024-03-04     AI   34.070000   34.070000    37.540001   33.810001   \n",
            "3  2024-03-04   AMZN  177.580002  177.580002   180.139999  177.490005   \n",
            "4  2024-03-04   ASML  998.039978  998.039978  1007.679993  987.750000   \n",
            "\n",
            "         Open    Volume  Avg Closing Price  neg_sentiment_cnt  \\\n",
            "0  176.149994  81510100         215.063628                0.0   \n",
            "1  572.849976   2556400         215.063628                0.0   \n",
            "2   36.470001  14609400         215.063628                4.0   \n",
            "3  177.529999  37381500         215.063628                1.0   \n",
            "4  992.599976   1433000         215.063628                0.0   \n",
            "\n",
            "   neu_sentiment_cnt  pos_sentiment_cnt  mean_neg_sentiment_prob  \\\n",
            "0                5.0                8.0                 0.000808   \n",
            "1                2.0                1.0                 0.000211   \n",
            "2                7.0               13.0                 0.153089   \n",
            "3                0.0                1.0                 0.496739   \n",
            "4                1.0                0.0                 0.000074   \n",
            "\n",
            "   mean_neu_sentiment_prob  mean_pos_sentiment_prob  \n",
            "0                 0.427172                 0.572019  \n",
            "1                 0.682516                 0.317273  \n",
            "2                 0.312550                 0.534361  \n",
            "3                 0.008287                 0.494974  \n",
            "4                 0.999869                 0.000057  \n"
          ]
        }
      ]
    },
    {
      "cell_type": "code",
      "source": [
        "sentiment_data_path = \"/content/drive/MyDrive/Final_DF/stock_final.csv\"\n",
        "daily_company_sentiment_features.to_csv(sentiment_data_path)"
      ],
      "metadata": {
        "id": "d0P-7QJ6eolg"
      },
      "execution_count": null,
      "outputs": []
    }
  ]
}