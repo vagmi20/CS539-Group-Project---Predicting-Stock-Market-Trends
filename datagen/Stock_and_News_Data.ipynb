{
  "nbformat": 4,
  "nbformat_minor": 0,
  "metadata": {
    "colab": {
      "provenance": []
    },
    "kernelspec": {
      "name": "python3",
      "display_name": "Python 3"
    },
    "language_info": {
      "name": "python"
    }
  },
  "cells": [
    {
      "cell_type": "markdown",
      "source": [
        "# Dependencies"
      ],
      "metadata": {
        "id": "XbX4GJyflUkC"
      }
    },
    {
      "cell_type": "code",
      "source": [
        "!pip install yfinance"
      ],
      "metadata": {
        "colab": {
          "base_uri": "https://localhost:8080/"
        },
        "id": "O_bt5YNQjjeG",
        "outputId": "293ebd7c-6d27-458e-a19b-1297b33d1d4f"
      },
      "execution_count": 1,
      "outputs": [
        {
          "output_type": "stream",
          "name": "stdout",
          "text": [
            "Requirement already satisfied: yfinance in /usr/local/lib/python3.10/dist-packages (0.2.38)\n",
            "Requirement already satisfied: pandas>=1.3.0 in /usr/local/lib/python3.10/dist-packages (from yfinance) (2.0.3)\n",
            "Requirement already satisfied: numpy>=1.16.5 in /usr/local/lib/python3.10/dist-packages (from yfinance) (1.25.2)\n",
            "Requirement already satisfied: requests>=2.31 in /usr/local/lib/python3.10/dist-packages (from yfinance) (2.31.0)\n",
            "Requirement already satisfied: multitasking>=0.0.7 in /usr/local/lib/python3.10/dist-packages (from yfinance) (0.0.11)\n",
            "Requirement already satisfied: lxml>=4.9.1 in /usr/local/lib/python3.10/dist-packages (from yfinance) (4.9.4)\n",
            "Requirement already satisfied: appdirs>=1.4.4 in /usr/local/lib/python3.10/dist-packages (from yfinance) (1.4.4)\n",
            "Requirement already satisfied: pytz>=2022.5 in /usr/local/lib/python3.10/dist-packages (from yfinance) (2023.4)\n",
            "Requirement already satisfied: frozendict>=2.3.4 in /usr/local/lib/python3.10/dist-packages (from yfinance) (2.4.2)\n",
            "Requirement already satisfied: peewee>=3.16.2 in /usr/local/lib/python3.10/dist-packages (from yfinance) (3.17.2)\n",
            "Requirement already satisfied: beautifulsoup4>=4.11.1 in /usr/local/lib/python3.10/dist-packages (from yfinance) (4.12.3)\n",
            "Requirement already satisfied: html5lib>=1.1 in /usr/local/lib/python3.10/dist-packages (from yfinance) (1.1)\n",
            "Requirement already satisfied: soupsieve>1.2 in /usr/local/lib/python3.10/dist-packages (from beautifulsoup4>=4.11.1->yfinance) (2.5)\n",
            "Requirement already satisfied: six>=1.9 in /usr/local/lib/python3.10/dist-packages (from html5lib>=1.1->yfinance) (1.16.0)\n",
            "Requirement already satisfied: webencodings in /usr/local/lib/python3.10/dist-packages (from html5lib>=1.1->yfinance) (0.5.1)\n",
            "Requirement already satisfied: python-dateutil>=2.8.2 in /usr/local/lib/python3.10/dist-packages (from pandas>=1.3.0->yfinance) (2.8.2)\n",
            "Requirement already satisfied: tzdata>=2022.1 in /usr/local/lib/python3.10/dist-packages (from pandas>=1.3.0->yfinance) (2024.1)\n",
            "Requirement already satisfied: charset-normalizer<4,>=2 in /usr/local/lib/python3.10/dist-packages (from requests>=2.31->yfinance) (3.3.2)\n",
            "Requirement already satisfied: idna<4,>=2.5 in /usr/local/lib/python3.10/dist-packages (from requests>=2.31->yfinance) (3.7)\n",
            "Requirement already satisfied: urllib3<3,>=1.21.1 in /usr/local/lib/python3.10/dist-packages (from requests>=2.31->yfinance) (2.0.7)\n",
            "Requirement already satisfied: certifi>=2017.4.17 in /usr/local/lib/python3.10/dist-packages (from requests>=2.31->yfinance) (2024.2.2)\n"
          ]
        }
      ]
    },
    {
      "cell_type": "code",
      "source": [
        "!pip install gnews"
      ],
      "metadata": {
        "id": "gb5XxlZzTI0Q"
      },
      "execution_count": null,
      "outputs": []
    },
    {
      "cell_type": "code",
      "source": [
        "from google.colab import drive\n",
        "drive.mount('/content/drive')"
      ],
      "metadata": {
        "colab": {
          "base_uri": "https://localhost:8080/"
        },
        "id": "bZ1OkWR0OJgY",
        "outputId": "02511aad-f7b8-45e9-a0f4-8611d9f37356"
      },
      "execution_count": 2,
      "outputs": [
        {
          "output_type": "stream",
          "name": "stdout",
          "text": [
            "Mounted at /content/drive\n"
          ]
        }
      ]
    },
    {
      "cell_type": "markdown",
      "source": [
        "# Target Stocks and Dates"
      ],
      "metadata": {
        "id": "KBjG8Xe4lBxh"
      }
    },
    {
      "cell_type": "code",
      "source": [
        "stocks = ['AAPL', 'META', 'NVDA']\n",
        "related_terms = {\n",
        "    'AAPL': ['AAPL', 'Apple'],\n",
        "    'META': ['META', 'Metaverse'],\n",
        "    'NVDA': ['NVDA', 'NVIDIA'],\n",
        "}\n",
        "# company url names for Investing.com\n",
        "url_names = {\n",
        "    'AAPL': 'apple-computer-inc',\n",
        "    'META': 'facebook-inc',\n",
        "    'NVDA': 'nvidia-corp',\n",
        "}\n",
        "start = \"2022-01-01\"\n",
        "end = \"2024-01-01\""
      ],
      "metadata": {
        "id": "vjIHFOGhlA_Q"
      },
      "execution_count": 3,
      "outputs": []
    },
    {
      "cell_type": "markdown",
      "source": [
        "# Retrieve Stock Data"
      ],
      "metadata": {
        "id": "eUj8iCppjg0q"
      }
    },
    {
      "cell_type": "code",
      "source": [
        "import yfinance as yf\n",
        "import numpy as np\n",
        "import pandas as pd\n",
        "from tqdm.auto import tqdm"
      ],
      "metadata": {
        "id": "H1PrwFw7jut8"
      },
      "execution_count": 4,
      "outputs": []
    },
    {
      "cell_type": "code",
      "source": [
        "stock_dfs = {}\n",
        "\n",
        "for stock in stocks:\n",
        "    stock_df = yf.download(stock, start=start, end=end)[['Adj Close','Open', 'High', 'Low', 'Close', 'Volume']].round(3)\n",
        "    stock_df = stock_df.reset_index()\n",
        "    stock_df.to_csv(f\"/content/drive/My Drive/WPI/Senior Year/CS539 (ML)/{stock}_stock.csv\", index=False)\n",
        "    stock_dfs[stock] = stock_df"
      ],
      "metadata": {
        "colab": {
          "base_uri": "https://localhost:8080/"
        },
        "id": "VxUsex_vjzNc",
        "outputId": "9066392c-8ad1-420e-962f-759587f254e4"
      },
      "execution_count": 5,
      "outputs": [
        {
          "output_type": "stream",
          "name": "stderr",
          "text": [
            "[*********************100%%**********************]  1 of 1 completed\n",
            "[*********************100%%**********************]  1 of 1 completed\n",
            "[*********************100%%**********************]  1 of 1 completed\n"
          ]
        }
      ]
    },
    {
      "cell_type": "markdown",
      "source": [
        "# Retrieve News Articles"
      ],
      "metadata": {
        "id": "_PFSrMwek8qJ"
      }
    },
    {
      "cell_type": "code",
      "source": [
        "from gnews import GNews\n",
        "import pandas as pd\n",
        "\n",
        "def convert_date(date_str):\n",
        "    yy, mm, dd = date_str.split('-')\n",
        "    return (int(yy), int(mm), int(dd))\n",
        "\n",
        "def format_date(date_str):\n",
        "    return pd.to_datetime(date_str).strftime('%Y-%m-%d')\n",
        "\n",
        "articles_by_stock = {}\n",
        "max_retries = 5  # Maximum retries for fetching articles\n",
        "\n",
        "# For each ticker\n",
        "for ticker, stock_df in stock_dfs.items():\n",
        "    all_dfs = []\n",
        "    all_dates = stock_df['Date'].dt.strftime('%Y-%m-%d').tolist()\n",
        "\n",
        "    # Iterate through each day in the range of stock data dates, except the last date to avoid index error\n",
        "    for i in tqdm(range(len(all_dates) - 1)):\n",
        "        s_d = convert_date(all_dates[i])\n",
        "        e_d = convert_date(all_dates[i+1])\n",
        "\n",
        "        dts = [all_dates[i], all_dates[i+1]]\n",
        "\n",
        "        retries = 0\n",
        "        articles_fetched = False\n",
        "        while not articles_fetched and retries < max_retries:\n",
        "            google_news = GNews(\n",
        "                language='en',\n",
        "                country='US',\n",
        "                start_date=s_d,\n",
        "                end_date=e_d,\n",
        "                max_results=10,\n",
        "            )\n",
        "            # Perform search for each keyword\n",
        "            for term in related_terms[ticker]:\n",
        "                json_resp = google_news.get_news(term)\n",
        "                if json_resp:\n",
        "                    df = pd.DataFrame(json_resp)\n",
        "                    df['published date'] = df['published date'].apply(format_date)\n",
        "                    if all(date in dts for date in df['published date'].tolist()):\n",
        "                        all_dfs.append(df)\n",
        "                        articles_fetched = True\n",
        "                        break  # Exit the loop once articles are fetched\n",
        "            retries += 1  # Increment retry count\n",
        "\n",
        "    if all_dfs:\n",
        "        all_news_df = pd.concat(all_dfs, ignore_index=True)\n",
        "    else:\n",
        "        all_news_df = pd.DataFrame()\n",
        "\n",
        "    all_news_df.to_csv(f\"/content/drive/My Drive/WPI/Senior Year/CS539 (ML)/{ticker}_news.csv\", index=False)\n",
        "    print(f\"{ticker} news saved.\")\n",
        "    articles_by_stock[ticker] = all_news_df"
      ],
      "metadata": {
        "id": "liXuyEUzuzPv"
      },
      "execution_count": null,
      "outputs": []
    }
  ]
}