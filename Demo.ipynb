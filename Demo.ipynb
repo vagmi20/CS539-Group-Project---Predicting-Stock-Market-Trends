{
  "cells": [
    {
      "cell_type": "markdown",
      "metadata": {
        "id": "LIY_iiEd5Jat"
      },
      "source": [
        "# Dependencies"
      ]
    },
    {
      "cell_type": "code",
      "execution_count": null,
      "metadata": {
        "id": "XZg-8DFw5JGH"
      },
      "outputs": [],
      "source": [
        "!pip install torch torchvision torchaudio --index-url https://download.pytorch.org/whl/cu121\n",
        "!pip install transformers[torch]"
      ]
    },
    {
      "cell_type": "markdown",
      "metadata": {},
      "source": [
        "Ignore colab import if running locally"
      ]
    },
    {
      "cell_type": "code",
      "execution_count": 150,
      "metadata": {
        "colab": {
          "base_uri": "https://localhost:8080/"
        },
        "id": "YxAP8z_i9-p9",
        "outputId": "18f71d82-3572-4566-d6aa-0ac7112c285b"
      },
      "outputs": [
        {
          "name": "stdout",
          "output_type": "stream",
          "text": [
            "Drive already mounted at /content/drive; to attempt to forcibly remount, call drive.mount(\"/content/drive\", force_remount=True).\n"
          ]
        }
      ],
      "source": [
        "from google.colab import drive\n",
        "drive.mount('/content/drive')"
      ]
    },
    {
      "cell_type": "markdown",
      "metadata": {},
      "source": [
        "Replace `csv` with the path to any file in the `data` directory with format `{ticker_name}/stock_with_sentiment.csv`"
      ]
    },
    {
      "cell_type": "code",
      "execution_count": 151,
      "metadata": {
        "colab": {
          "base_uri": "https://localhost:8080/"
        },
        "id": "KcrraJ-m_y9k",
        "outputId": "b18be44e-ee0b-4e96-c042-d4f0c67a5934"
      },
      "outputs": [
        {
          "name": "stdout",
          "output_type": "stream",
          "text": [
            "488\n"
          ]
        }
      ],
      "source": [
        "import pandas as pd\n",
        "csv = \"/content/drive/My Drive/WPI/Senior Year/CS539 (ML)/AAPL_stock_with_sentiment.csv\"\n",
        "df = pd.read_csv(csv)\n",
        "print(len(df))"
      ]
    },
    {
      "cell_type": "markdown",
      "metadata": {
        "id": "PwM2_-taCdUC"
      },
      "source": [
        "# Create the target labels for each row to indicate whether the stock will have uptrend/downtrend for next day"
      ]
    },
    {
      "cell_type": "code",
      "execution_count": 152,
      "metadata": {
        "colab": {
          "base_uri": "https://localhost:8080/"
        },
        "id": "NpOVogRB-StN",
        "outputId": "22f660a5-1220-46d6-a3cd-fa66023517cb"
      },
      "outputs": [
        {
          "name": "stdout",
          "output_type": "stream",
          "text": [
            "Label\n",
            "1    254\n",
            "0    234\n",
            "Name: count, dtype: int64\n"
          ]
        }
      ],
      "source": [
        "# get uptrend/downtrend labels for individual stocks\n",
        "df['Adj Close Next'] = df['Adj Close'].shift(-1)\n",
        "df['Label'] = df.apply(lambda x: 1 if (x['Adj Close Next'] >= x['Adj Close']) else 0, axis =1)\n",
        "# check class balancing\n",
        "print(df['Label'].value_counts())"
      ]
    },
    {
      "cell_type": "markdown",
      "metadata": {
        "id": "rkTOIbcw2w8m"
      },
      "source": [
        "# Preprocess the Data for Training"
      ]
    },
    {
      "cell_type": "code",
      "execution_count": 153,
      "metadata": {
        "id": "x2pYKCAKEeDz"
      },
      "outputs": [],
      "source": [
        "# seed everything\n",
        "import numpy as np\n",
        "seed = 42\n",
        "np.random.seed(42)"
      ]
    },
    {
      "cell_type": "code",
      "execution_count": 154,
      "metadata": {
        "colab": {
          "base_uri": "https://localhost:8080/"
        },
        "id": "YKJ3EELM20eA",
        "outputId": "db59ab1b-cf4c-4857-d141-456582574c84"
      },
      "outputs": [
        {
          "name": "stdout",
          "output_type": "stream",
          "text": [
            "Label\n",
            "1    198\n",
            "0    193\n",
            "Name: count, dtype: int64 Label\n",
            "1    56\n",
            "0    41\n",
            "Name: count, dtype: int64\n",
            "Index(['Adj Close', 'Close', 'High', 'Low', 'Open', 'Volume',\n",
            "       'mean_neg_sentiment_prob', 'mean_neu_sentiment_prob',\n",
            "       'mean_pos_sentiment_prob', 'neg_sentiment_cnt', 'neu_sentiment_cnt',\n",
            "       'pos_sentiment_cnt'],\n",
            "      dtype='object')\n"
          ]
        }
      ],
      "source": [
        "from sklearn.preprocessing import StandardScaler\n",
        "\n",
        "# Train/Test split = Cannot randomly split for time series data as this would introduce look-ahead bias\n",
        "num_test_days = int(len(df)*0.2)\n",
        "dates = df['Date'].unique()\n",
        "split = len(dates) - num_test_days\n",
        "train_dates = dates[:split]\n",
        "test_dates = dates[split:]\n",
        "\n",
        "train_df = df[df['Date'].isin(train_dates)]\n",
        "test_df = df[df['Date'].isin(test_dates)]\n",
        "\n",
        "print(train_df['Label'].value_counts(),\n",
        "      test_df['Label'].value_counts())\n",
        "\n",
        "# Create target data set\n",
        "y_train = np.array(train_df['Label'])\n",
        "y_test = np.array(test_df['Label'])\n",
        "\n",
        "stock_features = ['Adj Close', 'Close', 'High', 'Low', 'Open', 'Volume']\n",
        "\n",
        "# only include relevant features\n",
        "continuous_features = ['mean_neg_sentiment_prob', 'mean_neu_sentiment_prob', 'mean_pos_sentiment_prob']\n",
        "\n",
        "# continuous_features += ['sma50', 'sma21', 'ema50', 'ema21', 'lag_1', 'lag_3', 'lag_5', 'pct_change', 'vol_pct_change']\n",
        "\n",
        "count_features = ['neg_sentiment_cnt', 'neu_sentiment_cnt', 'pos_sentiment_cnt']\n",
        "\n",
        "# Create baseline features without sentiment\n",
        "X_train_b = train_df[stock_features]\n",
        "X_test_b = test_df[stock_features]\n",
        "\n",
        "# Create features with sentiment\n",
        "X_train = train_df[stock_features + continuous_features + count_features]\n",
        "X_test = test_df[stock_features + continuous_features + count_features]\n",
        "\n",
        "print(X_train.columns)\n",
        "\n",
        "# Assuming X_train_continuous and X_test_continuous are correctly defined somewhere in your code:\n",
        "scaler = StandardScaler()\n",
        "\n",
        "X_train_b = scaler.fit_transform(X_train_b)\n",
        "X_test_b = scaler.transform(X_test_b)\n",
        "\n",
        "X_train = scaler.fit_transform(X_train)\n",
        "X_test = scaler.transform(X_test)"
      ]
    },
    {
      "cell_type": "markdown",
      "metadata": {
        "id": "QFg61Emd6NkR"
      },
      "source": [
        "# Training Models\n",
        "RandomSearch is used here to tune model hyperparameters."
      ]
    },
    {
      "cell_type": "code",
      "execution_count": 165,
      "metadata": {
        "id": "sfqptd8J6M-Z"
      },
      "outputs": [],
      "source": [
        "from sklearn.metrics import classification_report, confusion_matrix, ConfusionMatrixDisplay, accuracy_score\n",
        "from sklearn.model_selection import RandomizedSearchCV\n",
        "import matplotlib.pyplot as plt\n",
        "from sklearn.linear_model import LogisticRegression\n",
        "from sklearn.metrics import matthews_corrcoef, make_scorer\n",
        "\n",
        "\n",
        "def train(model, X_train, y_train, best_params, seed):\n",
        "    \"\"\"\n",
        "    Trains models on pre-determined tuned params\n",
        "    Returns the best estimator\n",
        "    \"\"\"\n",
        "    model.set_params(**best_params)\n",
        "    model.fit(X_train, y_train)\n",
        "    return model\n",
        "\n",
        "\n",
        "def test(model, X_test, y_test):\n",
        "    \"\"\"\n",
        "    Tests model\n",
        "    Prints classification report and confusion matrix\n",
        "    \"\"\"\n",
        "    # Final Classification Report\n",
        "    y_pred = model.predict(X_test)\n",
        "    # y_probs = model.predict_proba(X_test)\n",
        "    # print(y_probs)\n",
        "    labels = ['Downtrend', 'Uptrend']\n",
        "\n",
        "    print(classification_report(y_true=y_test, y_pred=y_pred, target_names=labels))\n",
        "    print(f\"Accuracy: {accuracy_score(y_true=y_test, y_pred=y_pred)}\")\n",
        "    print(f\"MCC Score: {matthews_corrcoef(y_true=y_test, y_pred=y_pred)}\")\n",
        "\n",
        "    # confusion matrix\n",
        "    conf_mat = confusion_matrix(y_true=y_test, y_pred=y_pred)\n",
        "    disp = ConfusionMatrixDisplay(confusion_matrix=conf_mat, display_labels=labels)\n",
        "    disp.plot()\n",
        "    plt.show()"
      ]
    },
    {
      "cell_type": "code",
      "execution_count": 166,
      "metadata": {
        "colab": {
          "base_uri": "https://localhost:8080/",
          "height": 1000
        },
        "id": "Y_JH_MR9zFWr",
        "outputId": "bd052aaf-9c71-40b0-dc03-2b75ca49ce95"
      },
      "outputs": [
        {
          "name": "stdout",
          "output_type": "stream",
          "text": [
            "Result for baseline (no sentiment features):\n",
            "              precision    recall  f1-score   support\n",
            "\n",
            "   Downtrend       0.46      0.90      0.61        41\n",
            "     Uptrend       0.76      0.23      0.36        56\n",
            "\n",
            "    accuracy                           0.52        97\n",
            "   macro avg       0.61      0.57      0.48        97\n",
            "weighted avg       0.64      0.52      0.46        97\n",
            "\n",
            "Accuracy: 0.5154639175257731\n",
            "MCC Score: 0.17486507696634918\n"
          ]
        },
        {
          "data": {
            "image/png": "[encoded data removed]",
            "text/plain": [
              "<Figure size 640x480 with 2 Axes>"
            ]
          },
          "metadata": {},
          "output_type": "display_data"
        },
        {
          "name": "stdout",
          "output_type": "stream",
          "text": [
            "Result with sentiment features:\n",
            "              precision    recall  f1-score   support\n",
            "\n",
            "   Downtrend       0.55      0.41      0.47        41\n",
            "     Uptrend       0.64      0.75      0.69        56\n",
            "\n",
            "    accuracy                           0.61        97\n",
            "   macro avg       0.59      0.58      0.58        97\n",
            "weighted avg       0.60      0.61      0.60        97\n",
            "\n",
            "Accuracy: 0.6082474226804123\n",
            "MCC Score: 0.17440263540470408\n"
          ]
        },
        {
          "data": {
            "image/png": "[encoded data removed]",
            "text/plain": [
              "<Figure size 640x480 with 2 Axes>"
            ]
          },
          "metadata": {},
          "output_type": "display_data"
        }
      ],
      "source": [
        "from sklearn.tree import DecisionTreeClassifier\n",
        "\n",
        "model = DecisionTreeClassifier(random_state=seed)\n",
        "\n",
        "# best params obtained from RandomizedSearchCV\n",
        "best_params = {\n",
        "    'class_weight': None,\n",
        "    'criterion': 'gini',\n",
        "    'max_depth': 8,\n",
        "    'max_features': 'log2',\n",
        "    'min_samples_leaf': 14,\n",
        "    'min_samples_split': 18,\n",
        "    'splitter': 'random'\n",
        "}\n",
        "\n",
        "print(f\"Result for baseline (no sentiment features):\")\n",
        "best_estimator_b = train(model, X_train_b, y_train, best_params, seed)\n",
        "test(best_estimator_b, X_test_b, y_test)\n",
        "\n",
        "print(f\"Result with sentiment features:\")\n",
        "best_estimator = train(model, X_train, y_train, best_params, seed)\n",
        "test(best_estimator, X_test, y_test)"
      ]
    },
    {
      "cell_type": "markdown",
      "metadata": {
        "id": "7EMcbGXc3r_e"
      },
      "source": [
        "# Test Influence of News Sentiment on Tomorrow's Trend for AAPL"
      ]
    },
    {
      "cell_type": "markdown",
      "metadata": {
        "id": "xBgQ_oz_5Uf_"
      },
      "source": [
        "Load tokenizer and Sentiment model"
      ]
    },
    {
      "cell_type": "code",
      "execution_count": 157,
      "metadata": {
        "id": "PQAR3c7X5TeD"
      },
      "outputs": [],
      "source": [
        "from transformers import AutoTokenizer, AutoModelForSequenceClassification\n",
        "import torch\n",
        "\n",
        "tokenizer = AutoTokenizer.from_pretrained(\"mrm8488/distilroberta-finetuned-financial-news-sentiment-analysis\")\n",
        "model_s = AutoModelForSequenceClassification.from_pretrained(\"mrm8488/distilroberta-finetuned-financial-news-sentiment-analysis\")"
      ]
    },
    {
      "cell_type": "markdown",
      "metadata": {
        "id": "_nD-Q_Vu5kcQ"
      },
      "source": [
        "Create a dummy test sample with only stock features"
      ]
    },
    {
      "cell_type": "code",
      "execution_count": 158,
      "metadata": {
        "colab": {
          "base_uri": "https://localhost:8080/"
        },
        "id": "oAjl8ExV3q7s",
        "outputId": "7e57183b-9656-4925-c533-658a23e70da3"
      },
      "outputs": [
        {
          "name": "stdout",
          "output_type": "stream",
          "text": [
            "     Adj Close   Close    High     Low   Open    Volume\n",
            "473    195.461  195.71  195.99  193.67  194.2  53377300\n"
          ]
        }
      ],
      "source": [
        "# create dummy test sample\n",
        "X_dummy = test_df[stock_features].sample(n=1, random_state=100)\n",
        "print(X_dummy)"
      ]
    },
    {
      "cell_type": "markdown",
      "metadata": {
        "id": "1GG7qcPn5pYP"
      },
      "source": [
        "Test Positive, Neutral, and Negative Dummy News"
      ]
    },
    {
      "cell_type": "code",
      "execution_count": 178,
      "metadata": {
        "id": "5MLGK4sk8nk9"
      },
      "outputs": [],
      "source": [
        "pos_articles = ['AAPL stock price is increasing',\n",
        "                'AAPL stock is doing well today',\n",
        "                'AAPL stock is very bullish today']\n",
        "\n",
        "neu_articles = ['AAPL stock is the same',\n",
        "                'AAPL stock has not changed',\n",
        "                'AAPL stock price has not seen any change recently']\n",
        "\n",
        "neg_articles = ['Quarterly profit is worse',\n",
        "                'AAPL stock price is decreasing',\n",
        "                'AAPL stock is plummeting and doing terribly!']\n",
        "\n",
        "all_articles = {\n",
        "    \"pos\": pos_articles,\n",
        "    \"neu\": neu_articles,\n",
        "    \"neg\": neg_articles,\n",
        "}"
      ]
    },
    {
      "cell_type": "code",
      "execution_count": 179,
      "metadata": {
        "id": "Oz6dzBYf5jqh"
      },
      "outputs": [],
      "source": [
        "dfs = {}\n",
        "for k, articles in all_articles.items():\n",
        "    sentiment_scores = []\n",
        "    sentiment_probs = []\n",
        "    for text in articles:\n",
        "        # Perform sentiment analysis\n",
        "        inputs = tokenizer(text, return_tensors=\"pt\", padding=True, truncation=True, max_length=512)\n",
        "        outputs = model_s(**inputs)\n",
        "        probs = torch.softmax(outputs.logits, dim=-1)\n",
        "        score = probs.argmax(dim=-1).item()\n",
        "        probs = probs.detach().cpu().numpy().tolist()\n",
        "        sentiment_scores.append(score)\n",
        "        sentiment_probs.append(probs)\n",
        "    s_df = pd.DataFrame()\n",
        "    s_df['sentiment_score'] = sentiment_scores\n",
        "    s_df['sentiment_probs'] = sentiment_probs\n",
        "    dfs[k] = s_df"
      ]
    },
    {
      "cell_type": "markdown",
      "metadata": {
        "id": "93LYwRHY-HLW"
      },
      "source": [
        "Generate sentiment features"
      ]
    },
    {
      "cell_type": "code",
      "execution_count": 161,
      "metadata": {
        "id": "24L9ak9E77LA"
      },
      "outputs": [],
      "source": [
        "import numpy as np\n",
        "\n",
        "score_map = {\n",
        "    0: 'neg',\n",
        "    1: 'neu',\n",
        "    2: 'pos',\n",
        "}\n",
        "\n",
        "def generate_sentiment_cnt_features(sentiment_df):\n",
        "    # count the number of neutral, pos, neg, articles per day\n",
        "    cnt = sentiment_df['sentiment_score'].value_counts()\n",
        "    for idx, s_val in score_map.items():\n",
        "        if idx in cnt:\n",
        "            s_cnt = cnt[idx]\n",
        "        else:\n",
        "            s_cnt = 0\n",
        "        sentiment_df[f'{s_val}_sentiment_cnt'] = s_cnt\n",
        "    sentiment_cnt = sentiment_df[['neg_sentiment_cnt',\n",
        "                                  'neu_sentiment_cnt',\n",
        "                                  'pos_sentiment_cnt']].drop_duplicates()\n",
        "    return sentiment_cnt\n",
        "\n",
        "def generate_sentiment_prob_features(sentiment_df):\n",
        "    # print(sentiment_df[['neg_sentiment_prob', 'neu_sentiment_prob', 'pos_sentiment_prob']])\n",
        "    rename_map ={\n",
        "        'neg_sentiment_prob': 'mean_neg_sentiment_prob',\n",
        "        'neu_sentiment_prob': 'mean_neu_sentiment_prob',\n",
        "        'pos_sentiment_prob': 'mean_pos_sentiment_prob',\n",
        "    }\n",
        "    # compute average neutral, pos, neg probs across all articles\n",
        "    mean_probs = sentiment_df[['neg_sentiment_prob', 'neu_sentiment_prob', 'pos_sentiment_prob']].mean()\n",
        "    for s_val, mean in mean_probs.items():\n",
        "        colname = rename_map[s_val]\n",
        "        sentiment_df[colname] = mean\n",
        "    sentiment_mean_probs = sentiment_df[['mean_neg_sentiment_prob',\n",
        "                              'mean_neu_sentiment_prob',\n",
        "                              'mean_pos_sentiment_prob']].drop_duplicates()\n",
        "    return sentiment_mean_probs\n",
        "\n",
        "def generate_sentiment_features(sentiment_df):\n",
        "    sentiment_df['neg_sentiment_prob'] = sentiment_df['sentiment_probs'].apply(\n",
        "        lambda x: float(x[0][0])\n",
        "    )\n",
        "    sentiment_df['neu_sentiment_prob'] = sentiment_df['sentiment_probs'].apply(\n",
        "        lambda x: float(x[0][1])\n",
        "    )\n",
        "    sentiment_df['pos_sentiment_prob'] = sentiment_df['sentiment_probs'].apply(\n",
        "        lambda x: float(x[0][2])\n",
        "    )\n",
        "    daily_sentiment_cnt = generate_sentiment_cnt_features(sentiment_df)\n",
        "    daily_sentiment_mean_probs = generate_sentiment_prob_features(sentiment_df)\n",
        "\n",
        "    # print(daily_sentiment_mean_probs)\n",
        "    daily_sentiment_features = daily_sentiment_mean_probs.join(daily_sentiment_cnt)\n",
        "    return daily_sentiment_features"
      ]
    },
    {
      "cell_type": "code",
      "execution_count": 190,
      "metadata": {
        "colab": {
          "base_uri": "https://localhost:8080/"
        },
        "id": "DJVGBJKx-qlk",
        "outputId": "045f4aa1-5c7d-480d-da5e-6d514fce293d"
      },
      "outputs": [
        {
          "name": "stdout",
          "output_type": "stream",
          "text": [
            "How different sentiments affect trend prediction for same set of stock features\n",
            "\n",
            "\n",
            "Stock features:\n",
            "     Adj Close   Close    High     Low   Open    Volume\n",
            "473    195.461  195.71  195.99  193.67  194.2  53377300\n",
            "\n",
            "\n",
            "Mostly positive news:\n",
            "Probability for Downtrend: 59.26%\n",
            "Probability for Uptrend: 40.74%\n",
            "\n",
            "Mostly neutral news:\n",
            "Probability for Downtrend: 33.33%\n",
            "Probability for Uptrend: 66.67%\n",
            "\n",
            "Mostly negative news:\n",
            "Probability for Downtrend: 40.00%\n",
            "Probability for Uptrend: 60.00%\n",
            "\n"
          ]
        }
      ],
      "source": [
        "name_map = {\n",
        "    'neg': 'negative',\n",
        "    'neu': 'neutral',\n",
        "    'pos': 'positive',\n",
        "}\n",
        "\n",
        "print(\"How different sentiments affect trend prediction for same set of stock features\\n\\n\")\n",
        "print(f\"Stock features:\\n{X_dummy}\\n\\n\")\n",
        "\n",
        "for k, sdf in dfs.items():\n",
        "    print(f\"Mostly {name_map[k]} news:\")\n",
        "    sentiment_df = generate_sentiment_features(sdf).reset_index().drop(columns=['index'])\n",
        "    X_t = X_dummy.reset_index().drop(columns=['index']).join(sentiment_df)\n",
        "    # print(X_t)\n",
        "    X_t = scaler.transform(X_t)\n",
        "    probs = best_estimator.predict_proba(X_t)\n",
        "    print(f\"Probability for Downtrend: {(probs[0][0] * 100):0.2f}%\")\n",
        "    print(f\"Probability for Uptrend: {(probs[0][1] * 100):0.2f}%\\n\")"
      ]
    }
  ],
  "metadata": {
    "colab": {
      "provenance": []
    },
    "kernelspec": {
      "display_name": "Python 3",
      "name": "python3"
    },
    "language_info": {
      "name": "python"
    }
  },
  "nbformat": 4,
  "nbformat_minor": 0
}
